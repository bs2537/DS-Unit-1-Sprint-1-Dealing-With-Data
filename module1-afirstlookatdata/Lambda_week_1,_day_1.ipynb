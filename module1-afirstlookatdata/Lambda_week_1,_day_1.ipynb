{
  "nbformat": 4,
  "nbformat_minor": 0,
  "metadata": {
    "colab": {
      "name": "Lambda week 1, day 1",
      "version": "0.3.2",
      "provenance": [],
      "collapsed_sections": []
    },
    "kernelspec": {
      "name": "python3",
      "display_name": "Python 3"
    }
  },
  "cells": [
    {
      "cell_type": "code",
      "metadata": {
        "id": "Rjz5201rjqmY",
        "colab_type": "code",
        "outputId": "fc4f424b-5686-4ec5-de93-fa5b8566f03a",
        "colab": {
          "base_uri": "https://localhost:8080/",
          "height": 34
        }
      },
      "source": [
        "2+2"
      ],
      "execution_count": 0,
      "outputs": [
        {
          "output_type": "execute_result",
          "data": {
            "text/plain": [
              "4"
            ]
          },
          "metadata": {
            "tags": []
          },
          "execution_count": 1
        }
      ]
    },
    {
      "cell_type": "code",
      "metadata": {
        "id": "AIetsutWjy7w",
        "colab_type": "code",
        "colab": {}
      },
      "source": [
        "def hello_world():\n",
        "  print(\"Hello World!\")"
      ],
      "execution_count": 0,
      "outputs": []
    },
    {
      "cell_type": "code",
      "metadata": {
        "id": "A__0cihGkBpt",
        "colab_type": "code",
        "outputId": "c97be860-c146-42c3-8282-4b48fb9e3fa9",
        "colab": {
          "base_uri": "https://localhost:8080/",
          "height": 34
        }
      },
      "source": [
        "hello_world()"
      ],
      "execution_count": 0,
      "outputs": [
        {
          "output_type": "stream",
          "text": [
            "Hello World!\n"
          ],
          "name": "stdout"
        }
      ]
    },
    {
      "cell_type": "code",
      "metadata": {
        "id": "25rB7MQNkJhO",
        "colab_type": "code",
        "outputId": "d8320163-14d2-4db5-9f43-0030753f3bd7",
        "colab": {
          "base_uri": "https://localhost:8080/",
          "height": 204
        }
      },
      "source": [
        "import pandas as pd\n",
        "df = pd.DataFrame({'a': [1,2,3,4,5], \n",
        "                  'b': [5,4,3,2,1]})\n",
        "df.head()"
      ],
      "execution_count": 0,
      "outputs": [
        {
          "output_type": "execute_result",
          "data": {
            "text/html": [
              "<div>\n",
              "<style scoped>\n",
              "    .dataframe tbody tr th:only-of-type {\n",
              "        vertical-align: middle;\n",
              "    }\n",
              "\n",
              "    .dataframe tbody tr th {\n",
              "        vertical-align: top;\n",
              "    }\n",
              "\n",
              "    .dataframe thead th {\n",
              "        text-align: right;\n",
              "    }\n",
              "</style>\n",
              "<table border=\"1\" class=\"dataframe\">\n",
              "  <thead>\n",
              "    <tr style=\"text-align: right;\">\n",
              "      <th></th>\n",
              "      <th>a</th>\n",
              "      <th>b</th>\n",
              "    </tr>\n",
              "  </thead>\n",
              "  <tbody>\n",
              "    <tr>\n",
              "      <th>0</th>\n",
              "      <td>1</td>\n",
              "      <td>5</td>\n",
              "    </tr>\n",
              "    <tr>\n",
              "      <th>1</th>\n",
              "      <td>2</td>\n",
              "      <td>4</td>\n",
              "    </tr>\n",
              "    <tr>\n",
              "      <th>2</th>\n",
              "      <td>3</td>\n",
              "      <td>3</td>\n",
              "    </tr>\n",
              "    <tr>\n",
              "      <th>3</th>\n",
              "      <td>4</td>\n",
              "      <td>2</td>\n",
              "    </tr>\n",
              "    <tr>\n",
              "      <th>4</th>\n",
              "      <td>5</td>\n",
              "      <td>1</td>\n",
              "    </tr>\n",
              "  </tbody>\n",
              "</table>\n",
              "</div>"
            ],
            "text/plain": [
              "   a  b\n",
              "0  1  5\n",
              "1  2  4\n",
              "2  3  3\n",
              "3  4  2\n",
              "4  5  1"
            ]
          },
          "metadata": {
            "tags": []
          },
          "execution_count": 14
        }
      ]
    },
    {
      "cell_type": "code",
      "metadata": {
        "id": "FcriArWKlkKq",
        "colab_type": "code",
        "outputId": "84c37b68-ae41-4a6b-f3d9-bdba9a724b81",
        "colab": {
          "base_uri": "https://localhost:8080/",
          "height": 283
        }
      },
      "source": [
        "df.plot.scatter('a', 'b');"
      ],
      "execution_count": 0,
      "outputs": [
        {
          "output_type": "display_data",
          "data": {
            "image/png": "[encoded data removed]",
            "text/plain": [
              "<Figure size 432x288 with 1 Axes>"
            ]
          },
          "metadata": {
            "tags": []
          }
        }
      ]
    },
    {
      "cell_type": "code",
      "metadata": {
        "id": "welBk3xpmFad",
        "colab_type": "code",
        "outputId": "724fd36a-0e5c-4fb1-87bb-a55c67de0263",
        "colab": {
          "base_uri": "https://localhost:8080/",
          "height": 34
        }
      },
      "source": [
        "#Joe, Alice, and Sarah are students. Joe is male and 19 years old, Alice and Sarah are female and both 20 years old\n",
        "\n",
        "joe = {'name':'Joe', 'is_female': False, 'age': 19 }\n",
        "alice = {'name':'Alice', 'is_female': True, 'age': 20 }\n",
        "sarah = {'name':'Sarah', 'is_female': True, 'age': 20 }\n",
        "students = [joe, alice, sarah]\n",
        "print(alice)"
      ],
      "execution_count": 0,
      "outputs": [
        {
          "output_type": "stream",
          "text": [
            "{'name': 'Alice', 'is_female': True, 'age': 20}\n"
          ],
          "name": "stdout"
        }
      ]
    },
    {
      "cell_type": "code",
      "metadata": {
        "id": "QKcEWBhYnYm-",
        "colab_type": "code",
        "colab": {}
      },
      "source": [
        "#Grow Mart, Plant Depot, and Trees’R’Us are gardening stores in a city. \n",
        "#Grow Mart and Plant Depot were both founded in 1973, and Trees’R’Us was founded in 1985. \n",
        "#Grow Mart has annual revenue of $265k and expenses of $183k, Plant Depot has $302k revenue and $240k expenses, and Trees’R’Us has $123k revenue and $130k expenses.\n",
        "\n",
        "\n",
        "\n"
      ],
      "execution_count": 0,
      "outputs": []
    },
    {
      "cell_type": "code",
      "metadata": {
        "id": "yCgBeXDArRxQ",
        "colab_type": "code",
        "colab": {}
      },
      "source": [
        "Grow_Mart = {'Gardening store':'Grow_Mart', 'annual revenue':'$265K', 'expenses':'$183K', 'is_profitable': True}\n",
        "\n",
        "Plant_Depot = {'Gardening store':'Plant Depot', 'annual revenue':'$302K', 'expenses':'$240K', 'is_profitable': True}\n",
        "\n",
        "Trees_R_Us = {'Gardening store':'Trees’R’Us', 'annual revenue':'$123K', 'expenses':'$130K', 'is_profitable': False}\n",
        "\n",
        "Gardening_stores = [Grow_Mart, Plant_Depot, Trees_R_Us]\n",
        "\n"
      ],
      "execution_count": 0,
      "outputs": []
    },
    {
      "cell_type": "code",
      "metadata": {
        "id": "mvhSpXXIxD7w",
        "colab_type": "code",
        "outputId": "f52c7b19-d8f9-4913-b07a-97f76f68a5df",
        "colab": {
          "base_uri": "https://localhost:8080/",
          "height": 34
        }
      },
      "source": [
        "Grow_Mart = {'Gardening store':'Grow Mart', 'annual revenue': '265000', 'expenses': '183000'}\n",
        "is_profitable = ['annual revenue' > 'expenses']\n",
        "\n",
        "print(is_profitable)\n",
        "# output not correct yet, need to work on defining is_profitable"
      ],
      "execution_count": 0,
      "outputs": [
        {
          "output_type": "stream",
          "text": [
            "[False]\n"
          ],
          "name": "stdout"
        }
      ]
    },
    {
      "cell_type": "code",
      "metadata": {
        "id": "83AhPni3ybcS",
        "colab_type": "code",
        "colab": {}
      },
      "source": [
        "#SOLVING THE RANDOM PUZZLE\n",
        "distances = {'525', '550', '575', '600'}\n",
        "cars = {'Cober', 'Garusky', 'Poltris', 'Zenmoto'}\n",
        "high_speeds = {'62', '67', '72', '81'}\n",
        "Cober = {'525', '550', '575', '600', '62', '67', '72', '81'}\n"
      ],
      "execution_count": 0,
      "outputs": []
    }
  ]
}